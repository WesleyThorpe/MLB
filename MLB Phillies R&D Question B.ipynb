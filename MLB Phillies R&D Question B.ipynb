{
 "cells": [
  {
   "cell_type": "code",
   "execution_count": 2,
   "id": "d7cde545",
   "metadata": {},
   "outputs": [],
   "source": [
    "import pandas as pd\n",
    "from pandas import read_html\n",
    "import html5lib\n",
    "import requests\n",
    "import json\n",
    "import numpy as np\n",
    "import matplotlib.pyplot as plt\n",
    "from unicodedata import normalize"
   ]
  },
  {
   "cell_type": "code",
   "execution_count": 3,
   "id": "8bbc32d5",
   "metadata": {},
   "outputs": [],
   "source": [
    "mlb_table = pd.read_html(\"https://questionnaire-148920.appspot.com/swe/data.html\")"
   ]
  },
  {
   "cell_type": "code",
   "execution_count": 4,
   "id": "9d65a8dd",
   "metadata": {},
   "outputs": [
    {
     "data": {
      "text/html": [
       "<div>\n",
       "<style scoped>\n",
       "    .dataframe tbody tr th:only-of-type {\n",
       "        vertical-align: middle;\n",
       "    }\n",
       "\n",
       "    .dataframe tbody tr th {\n",
       "        vertical-align: top;\n",
       "    }\n",
       "\n",
       "    .dataframe thead th {\n",
       "        text-align: right;\n",
       "    }\n",
       "</style>\n",
       "<table border=\"1\" class=\"dataframe\">\n",
       "  <thead>\n",
       "    <tr style=\"text-align: right;\">\n",
       "      <th></th>\n",
       "      <th>Player</th>\n",
       "      <th>Salary</th>\n",
       "      <th>Year</th>\n",
       "      <th>Level</th>\n",
       "    </tr>\n",
       "  </thead>\n",
       "  <tbody>\n",
       "    <tr>\n",
       "      <th>0</th>\n",
       "      <td>Abreu, Jose</td>\n",
       "      <td>$11,666,667</td>\n",
       "      <td>2016</td>\n",
       "      <td>MLB</td>\n",
       "    </tr>\n",
       "    <tr>\n",
       "      <th>1</th>\n",
       "      <td>Acevedo, Andury</td>\n",
       "      <td>$507,500</td>\n",
       "      <td>2016</td>\n",
       "      <td>MLB</td>\n",
       "    </tr>\n",
       "    <tr>\n",
       "      <th>2</th>\n",
       "      <td>Ackley, Dustin</td>\n",
       "      <td>$3,200,000</td>\n",
       "      <td>2016</td>\n",
       "      <td>MLB</td>\n",
       "    </tr>\n",
       "    <tr>\n",
       "      <th>3</th>\n",
       "      <td>Adames, Cristhian</td>\n",
       "      <td>$507,500</td>\n",
       "      <td>2016</td>\n",
       "      <td>MLB</td>\n",
       "    </tr>\n",
       "    <tr>\n",
       "      <th>4</th>\n",
       "      <td>Adams, Austin</td>\n",
       "      <td>$507,500</td>\n",
       "      <td>2016</td>\n",
       "      <td>MLB</td>\n",
       "    </tr>\n",
       "  </tbody>\n",
       "</table>\n",
       "</div>"
      ],
      "text/plain": [
       "              Player       Salary  Year Level\n",
       "0        Abreu, Jose  $11,666,667  2016   MLB\n",
       "1    Acevedo, Andury     $507,500  2016   MLB\n",
       "2     Ackley, Dustin   $3,200,000  2016   MLB\n",
       "3  Adames, Cristhian     $507,500  2016   MLB\n",
       "4      Adams, Austin     $507,500  2016   MLB"
      ]
     },
     "execution_count": 4,
     "metadata": {},
     "output_type": "execute_result"
    }
   ],
   "source": [
    "df = mlb_table[0]\n",
    "df.head()"
   ]
  },
  {
   "cell_type": "code",
   "execution_count": 5,
   "id": "02d65225",
   "metadata": {},
   "outputs": [],
   "source": [
    "df['Salary']= df.Salary.apply(lambda x:''+ str(x).replace('$','') if x else x)"
   ]
  },
  {
   "cell_type": "code",
   "execution_count": 6,
   "id": "8b215498",
   "metadata": {},
   "outputs": [],
   "source": [
    "df['Salary']= df.Salary.apply(lambda x:''+ str(x).replace(',','') if x else x)"
   ]
  },
  {
   "cell_type": "code",
   "execution_count": 7,
   "id": "d0d84ac8",
   "metadata": {},
   "outputs": [
    {
     "data": {
      "text/html": [
       "<div>\n",
       "<style scoped>\n",
       "    .dataframe tbody tr th:only-of-type {\n",
       "        vertical-align: middle;\n",
       "    }\n",
       "\n",
       "    .dataframe tbody tr th {\n",
       "        vertical-align: top;\n",
       "    }\n",
       "\n",
       "    .dataframe thead th {\n",
       "        text-align: right;\n",
       "    }\n",
       "</style>\n",
       "<table border=\"1\" class=\"dataframe\">\n",
       "  <thead>\n",
       "    <tr style=\"text-align: right;\">\n",
       "      <th></th>\n",
       "      <th>Player</th>\n",
       "      <th>Salary</th>\n",
       "      <th>Year</th>\n",
       "      <th>Level</th>\n",
       "    </tr>\n",
       "  </thead>\n",
       "  <tbody>\n",
       "    <tr>\n",
       "      <th>0</th>\n",
       "      <td>Abreu, Jose</td>\n",
       "      <td>11666667</td>\n",
       "      <td>2016</td>\n",
       "      <td>MLB</td>\n",
       "    </tr>\n",
       "    <tr>\n",
       "      <th>1</th>\n",
       "      <td>Acevedo, Andury</td>\n",
       "      <td>507500</td>\n",
       "      <td>2016</td>\n",
       "      <td>MLB</td>\n",
       "    </tr>\n",
       "    <tr>\n",
       "      <th>2</th>\n",
       "      <td>Ackley, Dustin</td>\n",
       "      <td>3200000</td>\n",
       "      <td>2016</td>\n",
       "      <td>MLB</td>\n",
       "    </tr>\n",
       "    <tr>\n",
       "      <th>3</th>\n",
       "      <td>Adames, Cristhian</td>\n",
       "      <td>507500</td>\n",
       "      <td>2016</td>\n",
       "      <td>MLB</td>\n",
       "    </tr>\n",
       "    <tr>\n",
       "      <th>4</th>\n",
       "      <td>Adams, Austin</td>\n",
       "      <td>507500</td>\n",
       "      <td>2016</td>\n",
       "      <td>MLB</td>\n",
       "    </tr>\n",
       "    <tr>\n",
       "      <th>...</th>\n",
       "      <td>...</td>\n",
       "      <td>...</td>\n",
       "      <td>...</td>\n",
       "      <td>...</td>\n",
       "    </tr>\n",
       "    <tr>\n",
       "      <th>1203</th>\n",
       "      <td>Zimmerman, Ryan</td>\n",
       "      <td>14000000</td>\n",
       "      <td>2016</td>\n",
       "      <td>MLB</td>\n",
       "    </tr>\n",
       "    <tr>\n",
       "      <th>1204</th>\n",
       "      <td>Zimmermann, Jordan</td>\n",
       "      <td>18000000</td>\n",
       "      <td>2016</td>\n",
       "      <td>MLB</td>\n",
       "    </tr>\n",
       "    <tr>\n",
       "      <th>1205</th>\n",
       "      <td>Zobrist, Ben</td>\n",
       "      <td>10500000</td>\n",
       "      <td>2016</td>\n",
       "      <td>MLB</td>\n",
       "    </tr>\n",
       "    <tr>\n",
       "      <th>1206</th>\n",
       "      <td>Zunino, Mike</td>\n",
       "      <td>507500</td>\n",
       "      <td>2016</td>\n",
       "      <td>MLB</td>\n",
       "    </tr>\n",
       "    <tr>\n",
       "      <th>1207</th>\n",
       "      <td>Zych, Tony</td>\n",
       "      <td>507500</td>\n",
       "      <td>2016</td>\n",
       "      <td>MLB</td>\n",
       "    </tr>\n",
       "  </tbody>\n",
       "</table>\n",
       "<p>1208 rows × 4 columns</p>\n",
       "</div>"
      ],
      "text/plain": [
       "                  Player    Salary  Year Level\n",
       "0            Abreu, Jose  11666667  2016   MLB\n",
       "1        Acevedo, Andury    507500  2016   MLB\n",
       "2         Ackley, Dustin   3200000  2016   MLB\n",
       "3      Adames, Cristhian    507500  2016   MLB\n",
       "4          Adams, Austin    507500  2016   MLB\n",
       "...                  ...       ...   ...   ...\n",
       "1203     Zimmerman, Ryan  14000000  2016   MLB\n",
       "1204  Zimmermann, Jordan  18000000  2016   MLB\n",
       "1205        Zobrist, Ben  10500000  2016   MLB\n",
       "1206        Zunino, Mike    507500  2016   MLB\n",
       "1207          Zych, Tony    507500  2016   MLB\n",
       "\n",
       "[1208 rows x 4 columns]"
      ]
     },
     "execution_count": 7,
     "metadata": {},
     "output_type": "execute_result"
    }
   ],
   "source": [
    "df.dropna()"
   ]
  },
  {
   "cell_type": "code",
   "execution_count": 8,
   "id": "e59fd3c9",
   "metadata": {},
   "outputs": [],
   "source": [
    "index = df[df['Salary'] == '$no salary data'].index\n",
    "df.drop(index, inplace=True)"
   ]
  },
  {
   "cell_type": "code",
   "execution_count": 13,
   "id": "7f391bd2",
   "metadata": {},
   "outputs": [],
   "source": [
    "index = df[df['Salary'] == 'no salary data'].index\n",
    "df.drop(index, inplace=True)"
   ]
  },
  {
   "cell_type": "code",
   "execution_count": 9,
   "id": "24da2900",
   "metadata": {},
   "outputs": [],
   "source": [
    "index = df[df['Salary'] == '$nan'].index\n",
    "df.drop(index, inplace=True)"
   ]
  },
  {
   "cell_type": "code",
   "execution_count": 10,
   "id": "212c8672",
   "metadata": {},
   "outputs": [],
   "source": [
    "index = df[df['Salary'] == 'nan'].index\n",
    "df.drop(index, inplace=True)"
   ]
  },
  {
   "cell_type": "markdown",
   "id": "871a5e70",
   "metadata": {},
   "source": [
    "#confirm data types"
   ]
  },
  {
   "cell_type": "code",
   "execution_count": 178,
   "id": "81397d13",
   "metadata": {},
   "outputs": [
    {
     "data": {
      "text/plain": [
       "Player    object\n",
       "Salary    object\n",
       "Year       int64\n",
       "Level     object\n",
       "dtype: object"
      ]
     },
     "execution_count": 178,
     "metadata": {},
     "output_type": "execute_result"
    }
   ],
   "source": [
    "df.dtypes"
   ]
  },
  {
   "cell_type": "markdown",
   "id": "ddaa25b9",
   "metadata": {},
   "source": [
    "#change data type to float"
   ]
  },
  {
   "cell_type": "code",
   "execution_count": 193,
   "id": "99d2efc8",
   "metadata": {},
   "outputs": [
    {
     "data": {
      "text/plain": [
       "0       11666667.0\n",
       "1         507500.0\n",
       "2        3200000.0\n",
       "3         507500.0\n",
       "4         507500.0\n",
       "           ...    \n",
       "1203    14000000.0\n",
       "1204    18000000.0\n",
       "1205    10500000.0\n",
       "1206      507500.0\n",
       "1207      507500.0\n",
       "Name: Salary, Length: 1163, dtype: float64"
      ]
     },
     "execution_count": 193,
     "metadata": {},
     "output_type": "execute_result"
    }
   ],
   "source": [
    "df['Salary'].astype('float')"
   ]
  },
  {
   "cell_type": "markdown",
   "id": "68a932e1",
   "metadata": {},
   "source": [
    "#List of top players by 125 Salary"
   ]
  },
  {
   "cell_type": "code",
   "execution_count": 15,
   "id": "c6cb1436",
   "metadata": {},
   "outputs": [
    {
     "data": {
      "text/html": [
       "<div>\n",
       "<style scoped>\n",
       "    .dataframe tbody tr th:only-of-type {\n",
       "        vertical-align: middle;\n",
       "    }\n",
       "\n",
       "    .dataframe tbody tr th {\n",
       "        vertical-align: top;\n",
       "    }\n",
       "\n",
       "    .dataframe thead th {\n",
       "        text-align: right;\n",
       "    }\n",
       "</style>\n",
       "<table border=\"1\" class=\"dataframe\">\n",
       "  <thead>\n",
       "    <tr style=\"text-align: right;\">\n",
       "      <th></th>\n",
       "      <th>Player</th>\n",
       "      <th>Salary</th>\n",
       "      <th>Year</th>\n",
       "      <th>Level</th>\n",
       "    </tr>\n",
       "  </thead>\n",
       "  <tbody>\n",
       "    <tr>\n",
       "      <th>583</th>\n",
       "      <td>Kershaw, Clayton</td>\n",
       "      <td>34571429.0</td>\n",
       "      <td>2016</td>\n",
       "      <td>MLB</td>\n",
       "    </tr>\n",
       "    <tr>\n",
       "      <th>449</th>\n",
       "      <td>Greinke, Zack</td>\n",
       "      <td>34000000.0</td>\n",
       "      <td>2016</td>\n",
       "      <td>MLB</td>\n",
       "    </tr>\n",
       "    <tr>\n",
       "      <th>871</th>\n",
       "      <td>Price, David</td>\n",
       "      <td>30000000.0</td>\n",
       "      <td>2016</td>\n",
       "      <td>MLB</td>\n",
       "    </tr>\n",
       "    <tr>\n",
       "      <th>471</th>\n",
       "      <td>Hamilton, Josh</td>\n",
       "      <td>28410000.0</td>\n",
       "      <td>2016</td>\n",
       "      <td>MLB</td>\n",
       "    </tr>\n",
       "    <tr>\n",
       "      <th>159</th>\n",
       "      <td>Cabrera, Miguel</td>\n",
       "      <td>28000000.0</td>\n",
       "      <td>2016</td>\n",
       "      <td>MLB</td>\n",
       "    </tr>\n",
       "    <tr>\n",
       "      <th>...</th>\n",
       "      <td>...</td>\n",
       "      <td>...</td>\n",
       "      <td>...</td>\n",
       "      <td>...</td>\n",
       "    </tr>\n",
       "    <tr>\n",
       "      <th>1057</th>\n",
       "      <td>Strasburg, Stephen</td>\n",
       "      <td>10400000.0</td>\n",
       "      <td>2016</td>\n",
       "      <td>MLB</td>\n",
       "    </tr>\n",
       "    <tr>\n",
       "      <th>476</th>\n",
       "      <td>Happ, J.A.</td>\n",
       "      <td>10000000.0</td>\n",
       "      <td>2016</td>\n",
       "      <td>MLB</td>\n",
       "    </tr>\n",
       "    <tr>\n",
       "      <th>322</th>\n",
       "      <td>Encarnacion, Edwin</td>\n",
       "      <td>10000000.0</td>\n",
       "      <td>2016</td>\n",
       "      <td>MLB</td>\n",
       "    </tr>\n",
       "    <tr>\n",
       "      <th>517</th>\n",
       "      <td>Holland, Derek</td>\n",
       "      <td>10000000.0</td>\n",
       "      <td>2016</td>\n",
       "      <td>MLB</td>\n",
       "    </tr>\n",
       "    <tr>\n",
       "      <th>257</th>\n",
       "      <td>Darvish, Yu</td>\n",
       "      <td>10000000.0</td>\n",
       "      <td>2016</td>\n",
       "      <td>MLB</td>\n",
       "    </tr>\n",
       "  </tbody>\n",
       "</table>\n",
       "<p>125 rows × 4 columns</p>\n",
       "</div>"
      ],
      "text/plain": [
       "                  Player      Salary  Year Level\n",
       "583     Kershaw, Clayton  34571429.0  2016   MLB\n",
       "449        Greinke, Zack  34000000.0  2016   MLB\n",
       "871         Price, David  30000000.0  2016   MLB\n",
       "471       Hamilton, Josh  28410000.0  2016   MLB\n",
       "159      Cabrera, Miguel  28000000.0  2016   MLB\n",
       "...                  ...         ...   ...   ...\n",
       "1057  Strasburg, Stephen  10400000.0  2016   MLB\n",
       "476           Happ, J.A.  10000000.0  2016   MLB\n",
       "322   Encarnacion, Edwin  10000000.0  2016   MLB\n",
       "517       Holland, Derek  10000000.0  2016   MLB\n",
       "257          Darvish, Yu  10000000.0  2016   MLB\n",
       "\n",
       "[125 rows x 4 columns]"
      ]
     },
     "execution_count": 15,
     "metadata": {},
     "output_type": "execute_result"
    }
   ],
   "source": [
    "df.Salary = df.Salary.astype('float')\n",
    "df.sort_values('Salary', ascending=False)[:125]"
   ]
  },
  {
   "cell_type": "markdown",
   "id": "285be50d",
   "metadata": {},
   "source": [
    "# Average of the 125 highest salaries from the past season"
   ]
  },
  {
   "cell_type": "code",
   "execution_count": 208,
   "id": "c31b0164",
   "metadata": {},
   "outputs": [
    {
     "data": {
      "text/plain": [
       "16343470.336"
      ]
     },
     "execution_count": 208,
     "metadata": {},
     "output_type": "execute_result"
    }
   ],
   "source": [
    "df.Salary = df.Salary.astype('float')\n",
    "df.sort_values('Salary', ascending=False).Salary[:125].mean()"
   ]
  },
  {
   "cell_type": "markdown",
   "id": "6c1c3784",
   "metadata": {},
   "source": [
    "#Median Salary of top 125 players"
   ]
  },
  {
   "cell_type": "code",
   "execution_count": 214,
   "id": "a8b93c9b",
   "metadata": {},
   "outputs": [
    {
     "data": {
      "text/plain": [
       "15000000.0"
      ]
     },
     "execution_count": 214,
     "metadata": {},
     "output_type": "execute_result"
    }
   ],
   "source": [
    "df.Salary = df.Salary.astype('float')\n",
    "df.sort_values('Salary', ascending=False).Salary[:125].median()"
   ]
  },
  {
   "cell_type": "markdown",
   "id": "ad65e246",
   "metadata": {},
   "source": [
    "#top 10 out of top 125 players salaries "
   ]
  },
  {
   "cell_type": "code",
   "execution_count": 219,
   "id": "d5ea4dd5",
   "metadata": {},
   "outputs": [
    {
     "data": {
      "text/html": [
       "<div>\n",
       "<style scoped>\n",
       "    .dataframe tbody tr th:only-of-type {\n",
       "        vertical-align: middle;\n",
       "    }\n",
       "\n",
       "    .dataframe tbody tr th {\n",
       "        vertical-align: top;\n",
       "    }\n",
       "\n",
       "    .dataframe thead th {\n",
       "        text-align: right;\n",
       "    }\n",
       "</style>\n",
       "<table border=\"1\" class=\"dataframe\">\n",
       "  <thead>\n",
       "    <tr style=\"text-align: right;\">\n",
       "      <th></th>\n",
       "      <th>Player</th>\n",
       "      <th>Salary</th>\n",
       "      <th>Year</th>\n",
       "      <th>Level</th>\n",
       "    </tr>\n",
       "  </thead>\n",
       "  <tbody>\n",
       "    <tr>\n",
       "      <th>583</th>\n",
       "      <td>Kershaw, Clayton</td>\n",
       "      <td>34571429.0</td>\n",
       "      <td>2016</td>\n",
       "      <td>MLB</td>\n",
       "    </tr>\n",
       "    <tr>\n",
       "      <th>449</th>\n",
       "      <td>Greinke, Zack</td>\n",
       "      <td>34000000.0</td>\n",
       "      <td>2016</td>\n",
       "      <td>MLB</td>\n",
       "    </tr>\n",
       "    <tr>\n",
       "      <th>871</th>\n",
       "      <td>Price, David</td>\n",
       "      <td>30000000.0</td>\n",
       "      <td>2016</td>\n",
       "      <td>MLB</td>\n",
       "    </tr>\n",
       "    <tr>\n",
       "      <th>471</th>\n",
       "      <td>Hamilton, Josh</td>\n",
       "      <td>28410000.0</td>\n",
       "      <td>2016</td>\n",
       "      <td>MLB</td>\n",
       "    </tr>\n",
       "    <tr>\n",
       "      <th>159</th>\n",
       "      <td>Cabrera, Miguel</td>\n",
       "      <td>28000000.0</td>\n",
       "      <td>2016</td>\n",
       "      <td>MLB</td>\n",
       "    </tr>\n",
       "    <tr>\n",
       "      <th>499</th>\n",
       "      <td>Hernandez, Felix</td>\n",
       "      <td>25857143.0</td>\n",
       "      <td>2016</td>\n",
       "      <td>MLB</td>\n",
       "    </tr>\n",
       "    <tr>\n",
       "      <th>970</th>\n",
       "      <td>Sabathia, CC</td>\n",
       "      <td>25000000.0</td>\n",
       "      <td>2016</td>\n",
       "      <td>MLB</td>\n",
       "    </tr>\n",
       "    <tr>\n",
       "      <th>874</th>\n",
       "      <td>Pujols, Albert</td>\n",
       "      <td>25000000.0</td>\n",
       "      <td>2016</td>\n",
       "      <td>MLB</td>\n",
       "    </tr>\n",
       "    <tr>\n",
       "      <th>626</th>\n",
       "      <td>Lester, Jon</td>\n",
       "      <td>25000000.0</td>\n",
       "      <td>2016</td>\n",
       "      <td>MLB</td>\n",
       "    </tr>\n",
       "    <tr>\n",
       "      <th>526</th>\n",
       "      <td>Howard, Ryan</td>\n",
       "      <td>25000000.0</td>\n",
       "      <td>2016</td>\n",
       "      <td>MLB</td>\n",
       "    </tr>\n",
       "  </tbody>\n",
       "</table>\n",
       "</div>"
      ],
      "text/plain": [
       "               Player      Salary  Year Level\n",
       "583  Kershaw, Clayton  34571429.0  2016   MLB\n",
       "449     Greinke, Zack  34000000.0  2016   MLB\n",
       "871      Price, David  30000000.0  2016   MLB\n",
       "471    Hamilton, Josh  28410000.0  2016   MLB\n",
       "159   Cabrera, Miguel  28000000.0  2016   MLB\n",
       "499  Hernandez, Felix  25857143.0  2016   MLB\n",
       "970      Sabathia, CC  25000000.0  2016   MLB\n",
       "874    Pujols, Albert  25000000.0  2016   MLB\n",
       "626       Lester, Jon  25000000.0  2016   MLB\n",
       "526      Howard, Ryan  25000000.0  2016   MLB"
      ]
     },
     "execution_count": 219,
     "metadata": {},
     "output_type": "execute_result"
    }
   ],
   "source": [
    "df.Salary = df.Salary.astype('float')\n",
    "df.sort_values('Salary', ascending=False)[:10]"
   ]
  },
  {
   "cell_type": "markdown",
   "id": "85121821",
   "metadata": {},
   "source": [
    "#Average salary of the top 10 players within the top 125 salaries"
   ]
  },
  {
   "cell_type": "code",
   "execution_count": 218,
   "id": "ec43abbf",
   "metadata": {},
   "outputs": [
    {
     "data": {
      "text/plain": [
       "28083857.2"
      ]
     },
     "execution_count": 218,
     "metadata": {},
     "output_type": "execute_result"
    }
   ],
   "source": [
    "df.Salary = df.Salary.astype('float')\n",
    "df.sort_values('Salary', ascending=False).Salary[:10].mean()"
   ]
  },
  {
   "cell_type": "markdown",
   "id": "bae1a873",
   "metadata": {},
   "source": [
    "#Last 10 salaries of the top 125 players"
   ]
  },
  {
   "cell_type": "code",
   "execution_count": 220,
   "id": "293eb1e0",
   "metadata": {},
   "outputs": [
    {
     "data": {
      "text/html": [
       "<div>\n",
       "<style scoped>\n",
       "    .dataframe tbody tr th:only-of-type {\n",
       "        vertical-align: middle;\n",
       "    }\n",
       "\n",
       "    .dataframe tbody tr th {\n",
       "        vertical-align: top;\n",
       "    }\n",
       "\n",
       "    .dataframe thead th {\n",
       "        text-align: right;\n",
       "    }\n",
       "</style>\n",
       "<table border=\"1\" class=\"dataframe\">\n",
       "  <thead>\n",
       "    <tr style=\"text-align: right;\">\n",
       "      <th></th>\n",
       "      <th>Player</th>\n",
       "      <th>Salary</th>\n",
       "      <th>Year</th>\n",
       "      <th>Level</th>\n",
       "    </tr>\n",
       "  </thead>\n",
       "  <tbody>\n",
       "    <tr>\n",
       "      <th>1152</th>\n",
       "      <td>Walker, Neil</td>\n",
       "      <td>10550000.0</td>\n",
       "      <td>2016</td>\n",
       "      <td>MLB</td>\n",
       "    </tr>\n",
       "    <tr>\n",
       "      <th>1205</th>\n",
       "      <td>Zobrist, Ben</td>\n",
       "      <td>10500000.0</td>\n",
       "      <td>2016</td>\n",
       "      <td>MLB</td>\n",
       "    </tr>\n",
       "    <tr>\n",
       "      <th>1057</th>\n",
       "      <td>Strasburg, Stephen</td>\n",
       "      <td>10400000.0</td>\n",
       "      <td>2016</td>\n",
       "      <td>MLB</td>\n",
       "    </tr>\n",
       "    <tr>\n",
       "      <th>476</th>\n",
       "      <td>Happ, J.A.</td>\n",
       "      <td>10000000.0</td>\n",
       "      <td>2016</td>\n",
       "      <td>MLB</td>\n",
       "    </tr>\n",
       "    <tr>\n",
       "      <th>257</th>\n",
       "      <td>Darvish, Yu</td>\n",
       "      <td>10000000.0</td>\n",
       "      <td>2016</td>\n",
       "      <td>MLB</td>\n",
       "    </tr>\n",
       "    <tr>\n",
       "      <th>517</th>\n",
       "      <td>Holland, Derek</td>\n",
       "      <td>10000000.0</td>\n",
       "      <td>2016</td>\n",
       "      <td>MLB</td>\n",
       "    </tr>\n",
       "    <tr>\n",
       "      <th>580</th>\n",
       "      <td>Kendrick, Howie</td>\n",
       "      <td>10000000.0</td>\n",
       "      <td>2016</td>\n",
       "      <td>MLB</td>\n",
       "    </tr>\n",
       "    <tr>\n",
       "      <th>322</th>\n",
       "      <td>Encarnacion, Edwin</td>\n",
       "      <td>10000000.0</td>\n",
       "      <td>2016</td>\n",
       "      <td>MLB</td>\n",
       "    </tr>\n",
       "    <tr>\n",
       "      <th>146</th>\n",
       "      <td>Bumgarner, Madison</td>\n",
       "      <td>9950000.0</td>\n",
       "      <td>2016</td>\n",
       "      <td>MLB</td>\n",
       "    </tr>\n",
       "    <tr>\n",
       "      <th>639</th>\n",
       "      <td>Loney, James</td>\n",
       "      <td>9666667.0</td>\n",
       "      <td>2016</td>\n",
       "      <td>MLB</td>\n",
       "    </tr>\n",
       "  </tbody>\n",
       "</table>\n",
       "</div>"
      ],
      "text/plain": [
       "                  Player      Salary  Year Level\n",
       "1152        Walker, Neil  10550000.0  2016   MLB\n",
       "1205        Zobrist, Ben  10500000.0  2016   MLB\n",
       "1057  Strasburg, Stephen  10400000.0  2016   MLB\n",
       "476           Happ, J.A.  10000000.0  2016   MLB\n",
       "257          Darvish, Yu  10000000.0  2016   MLB\n",
       "517       Holland, Derek  10000000.0  2016   MLB\n",
       "580      Kendrick, Howie  10000000.0  2016   MLB\n",
       "322   Encarnacion, Edwin  10000000.0  2016   MLB\n",
       "146   Bumgarner, Madison   9950000.0  2016   MLB\n",
       "639         Loney, James   9666667.0  2016   MLB"
      ]
     },
     "execution_count": 220,
     "metadata": {},
     "output_type": "execute_result"
    }
   ],
   "source": [
    "df.Salary = df.Salary.astype('float')\n",
    "df.sort_values('Salary', ascending=False)[115:125]"
   ]
  },
  {
   "cell_type": "markdown",
   "id": "a3788807",
   "metadata": {},
   "source": [
    "#Average salary of the bottom 10 players within the top 125 salaries"
   ]
  },
  {
   "cell_type": "code",
   "execution_count": 211,
   "id": "2ccf7617",
   "metadata": {},
   "outputs": [
    {
     "data": {
      "text/plain": [
       "10106666.7"
      ]
     },
     "execution_count": 211,
     "metadata": {},
     "output_type": "execute_result"
    }
   ],
   "source": [
    "df.Salary = df.Salary.astype('float')\n",
    "df.sort_values('Salary', ascending=False).Salary[115:125].mean()"
   ]
  },
  {
   "cell_type": "code",
   "execution_count": null,
   "id": "e83f1a0b",
   "metadata": {},
   "outputs": [],
   "source": [
    "--------------------------------------------------------------------"
   ]
  },
  {
   "cell_type": "code",
   "execution_count": null,
   "id": "18f609eb",
   "metadata": {},
   "outputs": [],
   "source": [
    "##Cited resources"
   ]
  },
  {
   "cell_type": "code",
   "execution_count": null,
   "id": "e5c8ac24",
   "metadata": {},
   "outputs": [],
   "source": [
    "https://pbpython.com/pandas-html-table.html\n",
    "https://stackoverflow.com/questions/41329031/python-pandas-how-to-get-top-n-values-and-the-sum-of-all-other-values\n",
    "https://stackoverflow.com/questions/47914274/pandas-sort-values-does-not-sort-numbers-correctly"
   ]
  }
 ],
 "metadata": {
  "kernelspec": {
   "display_name": "Python 3",
   "language": "python",
   "name": "python3"
  },
  "language_info": {
   "codemirror_mode": {
    "name": "ipython",
    "version": 3
   },
   "file_extension": ".py",
   "mimetype": "text/x-python",
   "name": "python",
   "nbconvert_exporter": "python",
   "pygments_lexer": "ipython3",
   "version": "3.8.8"
  }
 },
 "nbformat": 4,
 "nbformat_minor": 5
}
